{
 "cells": [
  {
   "cell_type": "markdown",
   "metadata": {},
   "source": [
    "# Johdantu Datatieteeseen harjoitustyö\n",
    "\n",
    "Tarkoituksena on selvittää vaikutusta hintaan sen mukaan. Valittuja muuttujia ovat asunnon etäisyys Eiffel tornista, kaupunginosan metroasemien lkm tai millä puolella jokea asunto sijaitsee.\n",
    "\n",
    "Etäisyys Eiffel-tornista voidaan laskea annettujen koordinaattien mukaan käyttäen haversine-funktiota. "
   ]
  },
  {
   "cell_type": "code",
   "execution_count": 5,
   "metadata": {
    "scrolled": false
   },
   "outputs": [
    {
     "data": {
      "text/plain": [
       "59945"
      ]
     },
     "execution_count": 5,
     "metadata": {},
     "output_type": "execute_result"
    }
   ],
   "source": [
    "%matplotlib inline\n",
    "import pandas as pd\n",
    "import numpy as np\n",
    "from sklearn import linear_model\n",
    "\n",
    "LISTINGSFILE = 'listings.csv'\n",
    "\n",
    "cols = ['latitude', 'longitude', 'price', 'neighbourhood_cleansed']\n",
    "\n",
    "df = pd.read_csv(LISTINGSFILE, usecols=cols)\n",
    "\n",
    "len(df.index)"
   ]
  },
  {
   "cell_type": "code",
   "execution_count": 9,
   "metadata": {},
   "outputs": [
    {
     "data": {
      "text/html": [
       "<div>\n",
       "<style scoped>\n",
       "    .dataframe tbody tr th:only-of-type {\n",
       "        vertical-align: middle;\n",
       "    }\n",
       "\n",
       "    .dataframe tbody tr th {\n",
       "        vertical-align: top;\n",
       "    }\n",
       "\n",
       "    .dataframe thead th {\n",
       "        text-align: right;\n",
       "    }\n",
       "</style>\n",
       "<table border=\"1\" class=\"dataframe\">\n",
       "  <thead>\n",
       "    <tr style=\"text-align: right;\">\n",
       "      <th></th>\n",
       "      <th>neighbourhood_cleansed</th>\n",
       "      <th>latitude</th>\n",
       "      <th>longitude</th>\n",
       "      <th>price</th>\n",
       "    </tr>\n",
       "  </thead>\n",
       "  <tbody>\n",
       "    <tr>\n",
       "      <th>0</th>\n",
       "      <td>Observatoire</td>\n",
       "      <td>48.833494</td>\n",
       "      <td>2.318518</td>\n",
       "      <td>$59.00</td>\n",
       "    </tr>\n",
       "    <tr>\n",
       "      <th>1</th>\n",
       "      <td>Hôtel-de-Ville</td>\n",
       "      <td>48.851001</td>\n",
       "      <td>2.358690</td>\n",
       "      <td>$93.00</td>\n",
       "    </tr>\n",
       "    <tr>\n",
       "      <th>2</th>\n",
       "      <td>Hôtel-de-Ville</td>\n",
       "      <td>48.857576</td>\n",
       "      <td>2.352751</td>\n",
       "      <td>$110.00</td>\n",
       "    </tr>\n",
       "    <tr>\n",
       "      <th>3</th>\n",
       "      <td>Ménilmontant</td>\n",
       "      <td>48.865279</td>\n",
       "      <td>2.393263</td>\n",
       "      <td>$90.00</td>\n",
       "    </tr>\n",
       "    <tr>\n",
       "      <th>4</th>\n",
       "      <td>Vaugirard</td>\n",
       "      <td>48.853003</td>\n",
       "      <td>2.286014</td>\n",
       "      <td>$371.00</td>\n",
       "    </tr>\n",
       "  </tbody>\n",
       "</table>\n",
       "</div>"
      ],
      "text/plain": [
       "  neighbourhood_cleansed   latitude  longitude    price\n",
       "0           Observatoire  48.833494   2.318518   $59.00\n",
       "1         Hôtel-de-Ville  48.851001   2.358690   $93.00\n",
       "2         Hôtel-de-Ville  48.857576   2.352751  $110.00\n",
       "3           Ménilmontant  48.865279   2.393263   $90.00\n",
       "4              Vaugirard  48.853003   2.286014  $371.00"
      ]
     },
     "execution_count": 9,
     "metadata": {},
     "output_type": "execute_result"
    }
   ],
   "source": [
    "df.head(5)"
   ]
  },
  {
   "cell_type": "code",
   "execution_count": 12,
   "metadata": {
    "scrolled": true
   },
   "outputs": [
    {
     "data": {
      "text/plain": [
       "array(['Observatoire', 'Hôtel-de-Ville', 'Ménilmontant', 'Vaugirard',\n",
       "       'Popincourt', 'Buttes-Montmartre', 'Élysée', 'Panthéon',\n",
       "       'Entrepôt', 'Buttes-Chaumont', 'Gobelins', 'Temple', 'Opéra',\n",
       "       'Luxembourg', 'Louvre', 'Palais-Bourbon', 'Reuilly',\n",
       "       'Batignolles-Monceau', 'Bourse', 'Passy'], dtype=object)"
      ]
     },
     "execution_count": 12,
     "metadata": {},
     "output_type": "execute_result"
    }
   ],
   "source": [
    "df.neighbourhood_cleansed.unique()"
   ]
  },
  {
   "cell_type": "code",
   "execution_count": 43,
   "metadata": {},
   "outputs": [
    {
     "data": {
      "text/html": [
       "<div>\n",
       "<style scoped>\n",
       "    .dataframe tbody tr th:only-of-type {\n",
       "        vertical-align: middle;\n",
       "    }\n",
       "\n",
       "    .dataframe tbody tr th {\n",
       "        vertical-align: top;\n",
       "    }\n",
       "\n",
       "    .dataframe thead th {\n",
       "        text-align: right;\n",
       "    }\n",
       "</style>\n",
       "<table border=\"1\" class=\"dataframe\">\n",
       "  <thead>\n",
       "    <tr style=\"text-align: right;\">\n",
       "      <th></th>\n",
       "      <th>neighbourhood_cleansed</th>\n",
       "      <th>arrondissement</th>\n",
       "      <th>river_bank_side</th>\n",
       "      <th>metro_stations</th>\n",
       "    </tr>\n",
       "  </thead>\n",
       "  <tbody>\n",
       "    <tr>\n",
       "      <th>0</th>\n",
       "      <td>Observatoire</td>\n",
       "      <td>14</td>\n",
       "      <td>Left</td>\n",
       "      <td>13</td>\n",
       "    </tr>\n",
       "    <tr>\n",
       "      <th>1</th>\n",
       "      <td>Hôtel-de-Ville</td>\n",
       "      <td>4</td>\n",
       "      <td>Right</td>\n",
       "      <td>9</td>\n",
       "    </tr>\n",
       "    <tr>\n",
       "      <th>2</th>\n",
       "      <td>Ménilmontant</td>\n",
       "      <td>20</td>\n",
       "      <td>Right</td>\n",
       "      <td>19</td>\n",
       "    </tr>\n",
       "    <tr>\n",
       "      <th>3</th>\n",
       "      <td>Vaugirard</td>\n",
       "      <td>15</td>\n",
       "      <td>Left</td>\n",
       "      <td>22</td>\n",
       "    </tr>\n",
       "    <tr>\n",
       "      <th>4</th>\n",
       "      <td>Popincourt</td>\n",
       "      <td>11</td>\n",
       "      <td>Right</td>\n",
       "      <td>25</td>\n",
       "    </tr>\n",
       "  </tbody>\n",
       "</table>\n",
       "</div>"
      ],
      "text/plain": [
       "  neighbourhood_cleansed  arrondissement river_bank_side  metro_stations\n",
       "0           Observatoire              14            Left              13\n",
       "1         Hôtel-de-Ville               4           Right               9\n",
       "2           Ménilmontant              20           Right              19\n",
       "3              Vaugirard              15            Left              22\n",
       "4             Popincourt              11           Right              25"
      ]
     },
     "execution_count": 43,
     "metadata": {},
     "output_type": "execute_result"
    }
   ],
   "source": [
    "nhoods = [('Observatoire', 14, 'Left', 13),\n",
    "('Hôtel-de-Ville', 4, 'Right', 9),\n",
    "('Ménilmontant', 20, 'Right', 19),\n",
    "('Vaugirard', 15, 'Left', 22),\n",
    "('Popincourt', 11, 'Right', 25),\n",
    "('Buttes-Montmartre', 18, 'Right', 18),\n",
    "('Élysée', 8, 'Right', 19),\n",
    "('Panthéon', 5, 'Left', 8),\n",
    "('Entrepôt', 10, 'Right', 17),\n",
    "('Buttes-Chaumont', 19, 'Right', 22),\n",
    "('Gobelins', 13, 'Left', 18),\n",
    "('Temple', 3, 'Right', 9),\n",
    "('Opéra', 9, 'Right', 19),\n",
    "('Luxembourg', 6, 'Left', 14),\n",
    "('Louvre', 1, 'Right', 9),\n",
    "('Palais-Bourbon', 7, 'Left', 13),\n",
    "('Reuilly', 12, 'Right', 19),\n",
    "('Batignolles-Monceau', 17, 'Right', 18),\n",
    "('Bourse', 2, 'Right', 10),\n",
    "('Passy', 16, 'Right', 23)]\n",
    "labels = ['neighbourhood_cleansed', 'arrondissement', 'river_bank_side', 'metro_stations']\n",
    "df_metro = pd.DataFrame.from_records(nhoods, columns=labels)\n",
    "df_metro.head()"
   ]
  },
  {
   "cell_type": "code",
   "execution_count": 44,
   "metadata": {},
   "outputs": [
    {
     "data": {
      "text/plain": [
       "array(['Observatoire', 'Hôtel-de-Ville', 'Ménilmontant', 'Vaugirard',\n",
       "       'Popincourt', 'Buttes-Montmartre', 'Élysée', 'Panthéon',\n",
       "       'Entrepôt', 'Buttes-Chaumont', 'Gobelins', 'Temple', 'Opéra',\n",
       "       'Luxembourg', 'Louvre', 'Palais-Bourbon', 'Reuilly',\n",
       "       'Batignolles-Monceau', 'Bourse', 'Passy'], dtype=object)"
      ]
     },
     "execution_count": 44,
     "metadata": {},
     "output_type": "execute_result"
    }
   ],
   "source": [
    "df_metro.neighbourhood_cleansed.unique()"
   ]
  },
  {
   "cell_type": "markdown",
   "metadata": {},
   "source": [
    "Yhdistetään wikipedian avulla täydennetty ja tehty dataframe, jossa on eri 'neighbourhood_cleansed' arvoja vastaavat kaupunginosan numero, millä puolella jokea sijaitsee sekä metroasemien lukumäärä, alkuperäisen dataframen kanssa."
   ]
  },
  {
   "cell_type": "code",
   "execution_count": 20,
   "metadata": {},
   "outputs": [
    {
     "data": {
      "text/html": [
       "<div>\n",
       "<style scoped>\n",
       "    .dataframe tbody tr th:only-of-type {\n",
       "        vertical-align: middle;\n",
       "    }\n",
       "\n",
       "    .dataframe tbody tr th {\n",
       "        vertical-align: top;\n",
       "    }\n",
       "\n",
       "    .dataframe thead th {\n",
       "        text-align: right;\n",
       "    }\n",
       "</style>\n",
       "<table border=\"1\" class=\"dataframe\">\n",
       "  <thead>\n",
       "    <tr style=\"text-align: right;\">\n",
       "      <th></th>\n",
       "      <th>neighbourhood_cleansed</th>\n",
       "      <th>latitude</th>\n",
       "      <th>longitude</th>\n",
       "      <th>price</th>\n",
       "      <th>arrondissement</th>\n",
       "      <th>river_bank_side</th>\n",
       "      <th>metro_stations</th>\n",
       "    </tr>\n",
       "  </thead>\n",
       "  <tbody>\n",
       "    <tr>\n",
       "      <th>0</th>\n",
       "      <td>Observatoire</td>\n",
       "      <td>48.833494</td>\n",
       "      <td>2.318518</td>\n",
       "      <td>$59.00</td>\n",
       "      <td>14.0</td>\n",
       "      <td>Left</td>\n",
       "      <td>13.0</td>\n",
       "    </tr>\n",
       "    <tr>\n",
       "      <th>1</th>\n",
       "      <td>Hôtel-de-Ville</td>\n",
       "      <td>48.851001</td>\n",
       "      <td>2.358690</td>\n",
       "      <td>$93.00</td>\n",
       "      <td>4.0</td>\n",
       "      <td>Right</td>\n",
       "      <td>9.0</td>\n",
       "    </tr>\n",
       "    <tr>\n",
       "      <th>2</th>\n",
       "      <td>Hôtel-de-Ville</td>\n",
       "      <td>48.857576</td>\n",
       "      <td>2.352751</td>\n",
       "      <td>$110.00</td>\n",
       "      <td>4.0</td>\n",
       "      <td>Right</td>\n",
       "      <td>9.0</td>\n",
       "    </tr>\n",
       "    <tr>\n",
       "      <th>3</th>\n",
       "      <td>Ménilmontant</td>\n",
       "      <td>48.865279</td>\n",
       "      <td>2.393263</td>\n",
       "      <td>$90.00</td>\n",
       "      <td>20.0</td>\n",
       "      <td>Right</td>\n",
       "      <td>19.0</td>\n",
       "    </tr>\n",
       "    <tr>\n",
       "      <th>4</th>\n",
       "      <td>Vaugirard</td>\n",
       "      <td>48.853003</td>\n",
       "      <td>2.286014</td>\n",
       "      <td>$371.00</td>\n",
       "      <td>15.0</td>\n",
       "      <td>Left</td>\n",
       "      <td>22.0</td>\n",
       "    </tr>\n",
       "  </tbody>\n",
       "</table>\n",
       "</div>"
      ],
      "text/plain": [
       "  neighbourhood_cleansed   latitude  longitude    price  arrondissement  \\\n",
       "0           Observatoire  48.833494   2.318518   $59.00            14.0   \n",
       "1         Hôtel-de-Ville  48.851001   2.358690   $93.00             4.0   \n",
       "2         Hôtel-de-Ville  48.857576   2.352751  $110.00             4.0   \n",
       "3           Ménilmontant  48.865279   2.393263   $90.00            20.0   \n",
       "4              Vaugirard  48.853003   2.286014  $371.00            15.0   \n",
       "\n",
       "  river_bank_side  metro_stations  \n",
       "0            Left            13.0  \n",
       "1           Right             9.0  \n",
       "2           Right             9.0  \n",
       "3           Right            19.0  \n",
       "4            Left            22.0  "
      ]
     },
     "execution_count": 20,
     "metadata": {},
     "output_type": "execute_result"
    }
   ],
   "source": [
    "df_joined = df.join(df_metro.set_index('neighbourhood_cleansed'), on='neighbourhood_cleansed')\n",
    "df_joined.head()"
   ]
  },
  {
   "cell_type": "markdown",
   "metadata": {},
   "source": [
    "Tarkistetaan tuliko virheitä etsimällä tyhjien arvojen lukumäärä. Tyhjiä arvoja löytyi."
   ]
  },
  {
   "cell_type": "code",
   "execution_count": 32,
   "metadata": {},
   "outputs": [
    {
     "data": {
      "text/plain": [
       "4578"
      ]
     },
     "execution_count": 32,
     "metadata": {},
     "output_type": "execute_result"
    }
   ],
   "source": [
    "df_joined.isnull().sum().sum()"
   ]
  },
  {
   "cell_type": "markdown",
   "metadata": {},
   "source": [
    "Katsotaan millä sarakkeilla esiintyvät. Huomataan, että ne esiintyy juurikin joinissa käytetyn toisen dataframen puolella."
   ]
  },
  {
   "cell_type": "code",
   "execution_count": 33,
   "metadata": {},
   "outputs": [
    {
     "data": {
      "text/plain": [
       "neighbourhood_cleansed    False\n",
       "latitude                  False\n",
       "longitude                 False\n",
       "price                     False\n",
       "arrondissement             True\n",
       "river_bank_side            True\n",
       "metro_stations             True\n",
       "dtype: bool"
      ]
     },
     "execution_count": 33,
     "metadata": {},
     "output_type": "execute_result"
    }
   ],
   "source": [
    "df_joined.isnull().any()"
   ]
  },
  {
   "cell_type": "markdown",
   "metadata": {},
   "source": [
    "Haetaan columnin mukaan tyhjiä rivejä ja otetaan ne talteen. Sen jälkeen katsotaan niiden arvoja. Huomataan, että ne tapahtuu 'Élysée':n kohdalla. Tarkistin df_metro-dataframen luonnissa käytetyt tiedot ja sieltä löyty ylimääräinen merkki 'Élysée'-nimestä, minkä takia yhdistäminen sen kohdalla epäonnistui."
   ]
  },
  {
   "cell_type": "code",
   "execution_count": 34,
   "metadata": {},
   "outputs": [
    {
     "data": {
      "text/html": [
       "<div>\n",
       "<style scoped>\n",
       "    .dataframe tbody tr th:only-of-type {\n",
       "        vertical-align: middle;\n",
       "    }\n",
       "\n",
       "    .dataframe tbody tr th {\n",
       "        vertical-align: top;\n",
       "    }\n",
       "\n",
       "    .dataframe thead th {\n",
       "        text-align: right;\n",
       "    }\n",
       "</style>\n",
       "<table border=\"1\" class=\"dataframe\">\n",
       "  <thead>\n",
       "    <tr style=\"text-align: right;\">\n",
       "      <th></th>\n",
       "      <th>neighbourhood_cleansed</th>\n",
       "      <th>latitude</th>\n",
       "      <th>longitude</th>\n",
       "      <th>price</th>\n",
       "      <th>arrondissement</th>\n",
       "      <th>river_bank_side</th>\n",
       "      <th>metro_stations</th>\n",
       "    </tr>\n",
       "  </thead>\n",
       "  <tbody>\n",
       "    <tr>\n",
       "      <th>9</th>\n",
       "      <td>Élysée</td>\n",
       "      <td>48.879001</td>\n",
       "      <td>2.316083</td>\n",
       "      <td>$90.00</td>\n",
       "      <td>NaN</td>\n",
       "      <td>NaN</td>\n",
       "      <td>NaN</td>\n",
       "    </tr>\n",
       "    <tr>\n",
       "      <th>58</th>\n",
       "      <td>Élysée</td>\n",
       "      <td>48.879525</td>\n",
       "      <td>2.305434</td>\n",
       "      <td>$76.00</td>\n",
       "      <td>NaN</td>\n",
       "      <td>NaN</td>\n",
       "      <td>NaN</td>\n",
       "    </tr>\n",
       "    <tr>\n",
       "      <th>83</th>\n",
       "      <td>Élysée</td>\n",
       "      <td>48.879144</td>\n",
       "      <td>2.326873</td>\n",
       "      <td>$60.00</td>\n",
       "      <td>NaN</td>\n",
       "      <td>NaN</td>\n",
       "      <td>NaN</td>\n",
       "    </tr>\n",
       "    <tr>\n",
       "      <th>135</th>\n",
       "      <td>Élysée</td>\n",
       "      <td>48.872042</td>\n",
       "      <td>2.309664</td>\n",
       "      <td>$220.00</td>\n",
       "      <td>NaN</td>\n",
       "      <td>NaN</td>\n",
       "      <td>NaN</td>\n",
       "    </tr>\n",
       "    <tr>\n",
       "      <th>152</th>\n",
       "      <td>Élysée</td>\n",
       "      <td>48.872043</td>\n",
       "      <td>2.314211</td>\n",
       "      <td>$310.00</td>\n",
       "      <td>NaN</td>\n",
       "      <td>NaN</td>\n",
       "      <td>NaN</td>\n",
       "    </tr>\n",
       "  </tbody>\n",
       "</table>\n",
       "</div>"
      ],
      "text/plain": [
       "    neighbourhood_cleansed   latitude  longitude    price  arrondissement  \\\n",
       "9                   Élysée  48.879001   2.316083   $90.00             NaN   \n",
       "58                  Élysée  48.879525   2.305434   $76.00             NaN   \n",
       "83                  Élysée  48.879144   2.326873   $60.00             NaN   \n",
       "135                 Élysée  48.872042   2.309664  $220.00             NaN   \n",
       "152                 Élysée  48.872043   2.314211  $310.00             NaN   \n",
       "\n",
       "    river_bank_side  metro_stations  \n",
       "9               NaN             NaN  \n",
       "58              NaN             NaN  \n",
       "83              NaN             NaN  \n",
       "135             NaN             NaN  \n",
       "152             NaN             NaN  "
      ]
     },
     "execution_count": 34,
     "metadata": {},
     "output_type": "execute_result"
    }
   ],
   "source": [
    "nan_rows = df_joined[df_joined['arrondissement'].isnull()]\n",
    "nan_rows.head()"
   ]
  },
  {
   "cell_type": "code",
   "execution_count": 45,
   "metadata": {},
   "outputs": [
    {
     "data": {
      "text/plain": [
       "neighbourhood_cleansed    False\n",
       "latitude                  False\n",
       "longitude                 False\n",
       "price                     False\n",
       "arrondissement            False\n",
       "river_bank_side           False\n",
       "metro_stations            False\n",
       "dtype: bool"
      ]
     },
     "execution_count": 45,
     "metadata": {},
     "output_type": "execute_result"
    }
   ],
   "source": [
    "df_joinedfix = df.join(df_metro.set_index('neighbourhood_cleansed'), on='neighbourhood_cleansed')\n",
    "df_joinedfix.isnull().any()"
   ]
  },
  {
   "cell_type": "markdown",
   "metadata": {},
   "source": [
    "Lisätään uusi sarake, johonka on laskettu etäisyys Eiffel-tornista. Voisi jopa lisätä 4:n suosituimman nähtävyyden etäisyydet. https://www.tripadvisor.fi/Attractions-g187147-Activities-Paris_Ile_de_France.html\n",
    "\n",
    "Haversine funktio: https://stackoverflow.com/questions/4913349/haversine-formula-in-python-bearing-and-distance-between-two-gps-points"
   ]
  },
  {
   "cell_type": "code",
   "execution_count": 54,
   "metadata": {
    "scrolled": true
   },
   "outputs": [
    {
     "data": {
      "text/html": [
       "<div>\n",
       "<style scoped>\n",
       "    .dataframe tbody tr th:only-of-type {\n",
       "        vertical-align: middle;\n",
       "    }\n",
       "\n",
       "    .dataframe tbody tr th {\n",
       "        vertical-align: top;\n",
       "    }\n",
       "\n",
       "    .dataframe thead th {\n",
       "        text-align: right;\n",
       "    }\n",
       "</style>\n",
       "<table border=\"1\" class=\"dataframe\">\n",
       "  <thead>\n",
       "    <tr style=\"text-align: right;\">\n",
       "      <th></th>\n",
       "      <th>neighbourhood_cleansed</th>\n",
       "      <th>latitude</th>\n",
       "      <th>longitude</th>\n",
       "      <th>price</th>\n",
       "      <th>arrondissement</th>\n",
       "      <th>river_bank_side</th>\n",
       "      <th>metro_stations</th>\n",
       "      <th>distance_from_eiffel</th>\n",
       "    </tr>\n",
       "  </thead>\n",
       "  <tbody>\n",
       "    <tr>\n",
       "      <th>0</th>\n",
       "      <td>Observatoire</td>\n",
       "      <td>48.833494</td>\n",
       "      <td>2.318518</td>\n",
       "      <td>$59.00</td>\n",
       "      <td>14</td>\n",
       "      <td>Left</td>\n",
       "      <td>13</td>\n",
       "      <td>3275.932594</td>\n",
       "    </tr>\n",
       "    <tr>\n",
       "      <th>1</th>\n",
       "      <td>Hôtel-de-Ville</td>\n",
       "      <td>48.851001</td>\n",
       "      <td>2.358690</td>\n",
       "      <td>$93.00</td>\n",
       "      <td>4</td>\n",
       "      <td>Right</td>\n",
       "      <td>9</td>\n",
       "      <td>4765.693329</td>\n",
       "    </tr>\n",
       "    <tr>\n",
       "      <th>2</th>\n",
       "      <td>Hôtel-de-Ville</td>\n",
       "      <td>48.857576</td>\n",
       "      <td>2.352751</td>\n",
       "      <td>$110.00</td>\n",
       "      <td>4</td>\n",
       "      <td>Right</td>\n",
       "      <td>9</td>\n",
       "      <td>4261.190668</td>\n",
       "    </tr>\n",
       "    <tr>\n",
       "      <th>3</th>\n",
       "      <td>Ménilmontant</td>\n",
       "      <td>48.865279</td>\n",
       "      <td>2.393263</td>\n",
       "      <td>$90.00</td>\n",
       "      <td>20</td>\n",
       "      <td>Right</td>\n",
       "      <td>19</td>\n",
       "      <td>7262.353616</td>\n",
       "    </tr>\n",
       "    <tr>\n",
       "      <th>4</th>\n",
       "      <td>Vaugirard</td>\n",
       "      <td>48.853003</td>\n",
       "      <td>2.286014</td>\n",
       "      <td>$371.00</td>\n",
       "      <td>15</td>\n",
       "      <td>Left</td>\n",
       "      <td>22</td>\n",
       "      <td>859.608657</td>\n",
       "    </tr>\n",
       "  </tbody>\n",
       "</table>\n",
       "</div>"
      ],
      "text/plain": [
       "  neighbourhood_cleansed   latitude  longitude    price  arrondissement  \\\n",
       "0           Observatoire  48.833494   2.318518   $59.00              14   \n",
       "1         Hôtel-de-Ville  48.851001   2.358690   $93.00               4   \n",
       "2         Hôtel-de-Ville  48.857576   2.352751  $110.00               4   \n",
       "3           Ménilmontant  48.865279   2.393263   $90.00              20   \n",
       "4              Vaugirard  48.853003   2.286014  $371.00              15   \n",
       "\n",
       "  river_bank_side  metro_stations  distance_from_eiffel  \n",
       "0            Left              13           3275.932594  \n",
       "1           Right               9           4765.693329  \n",
       "2           Right               9           4261.190668  \n",
       "3           Right              19           7262.353616  \n",
       "4            Left              22            859.608657  "
      ]
     },
     "execution_count": 54,
     "metadata": {},
     "output_type": "execute_result"
    }
   ],
   "source": [
    "e_lon = 2.294481\n",
    "e_lat = 48.858370\n",
    "\n",
    "from math import radians, cos, sin, asin, sqrt\n",
    "\n",
    "def haversine(row):\n",
    "    lon1 = e_lon\n",
    "    lat1 = e_lat\n",
    "    lon2 = row['longitude']\n",
    "    lat2 = row['latitude']\n",
    "    lon1, lat1, lon2, lat2 = map(radians, [lon1, lat1, lon2, lat2])\n",
    "    dlon = lon2 - lon1 \n",
    "    dlat = lat2 - lat1 \n",
    "    a = sin(dlat/2)**2 + cos(lat1) * cos(lat2) * sin(dlon/2)**2\n",
    "    c = 2 * asin(sqrt(a)) \n",
    "    km = 6367 * c\n",
    "    meters = km*1000\n",
    "    return meters\n",
    "df_joinedfix['distance_from_eiffel'] = df_joinedfix.apply(lambda row: haversine(row), axis=1)\n",
    "df_joinedfix.head()"
   ]
  },
  {
   "cell_type": "markdown",
   "metadata": {},
   "source": [
    "Poistetaan dollarin merkit ja laitetaan tilalle float arvo."
   ]
  },
  {
   "cell_type": "code",
   "execution_count": 57,
   "metadata": {},
   "outputs": [
    {
     "data": {
      "text/html": [
       "<div>\n",
       "<style scoped>\n",
       "    .dataframe tbody tr th:only-of-type {\n",
       "        vertical-align: middle;\n",
       "    }\n",
       "\n",
       "    .dataframe tbody tr th {\n",
       "        vertical-align: top;\n",
       "    }\n",
       "\n",
       "    .dataframe thead th {\n",
       "        text-align: right;\n",
       "    }\n",
       "</style>\n",
       "<table border=\"1\" class=\"dataframe\">\n",
       "  <thead>\n",
       "    <tr style=\"text-align: right;\">\n",
       "      <th></th>\n",
       "      <th>neighbourhood_cleansed</th>\n",
       "      <th>latitude</th>\n",
       "      <th>longitude</th>\n",
       "      <th>price</th>\n",
       "      <th>arrondissement</th>\n",
       "      <th>river_bank_side</th>\n",
       "      <th>metro_stations</th>\n",
       "      <th>distance_from_eiffel</th>\n",
       "    </tr>\n",
       "  </thead>\n",
       "  <tbody>\n",
       "    <tr>\n",
       "      <th>0</th>\n",
       "      <td>Observatoire</td>\n",
       "      <td>48.833494</td>\n",
       "      <td>2.318518</td>\n",
       "      <td>59.0</td>\n",
       "      <td>14</td>\n",
       "      <td>Left</td>\n",
       "      <td>13</td>\n",
       "      <td>3275.932594</td>\n",
       "    </tr>\n",
       "    <tr>\n",
       "      <th>1</th>\n",
       "      <td>Hôtel-de-Ville</td>\n",
       "      <td>48.851001</td>\n",
       "      <td>2.358690</td>\n",
       "      <td>93.0</td>\n",
       "      <td>4</td>\n",
       "      <td>Right</td>\n",
       "      <td>9</td>\n",
       "      <td>4765.693329</td>\n",
       "    </tr>\n",
       "    <tr>\n",
       "      <th>2</th>\n",
       "      <td>Hôtel-de-Ville</td>\n",
       "      <td>48.857576</td>\n",
       "      <td>2.352751</td>\n",
       "      <td>110.0</td>\n",
       "      <td>4</td>\n",
       "      <td>Right</td>\n",
       "      <td>9</td>\n",
       "      <td>4261.190668</td>\n",
       "    </tr>\n",
       "    <tr>\n",
       "      <th>3</th>\n",
       "      <td>Ménilmontant</td>\n",
       "      <td>48.865279</td>\n",
       "      <td>2.393263</td>\n",
       "      <td>90.0</td>\n",
       "      <td>20</td>\n",
       "      <td>Right</td>\n",
       "      <td>19</td>\n",
       "      <td>7262.353616</td>\n",
       "    </tr>\n",
       "    <tr>\n",
       "      <th>4</th>\n",
       "      <td>Vaugirard</td>\n",
       "      <td>48.853003</td>\n",
       "      <td>2.286014</td>\n",
       "      <td>371.0</td>\n",
       "      <td>15</td>\n",
       "      <td>Left</td>\n",
       "      <td>22</td>\n",
       "      <td>859.608657</td>\n",
       "    </tr>\n",
       "  </tbody>\n",
       "</table>\n",
       "</div>"
      ],
      "text/plain": [
       "  neighbourhood_cleansed   latitude  longitude  price  arrondissement  \\\n",
       "0           Observatoire  48.833494   2.318518   59.0              14   \n",
       "1         Hôtel-de-Ville  48.851001   2.358690   93.0               4   \n",
       "2         Hôtel-de-Ville  48.857576   2.352751  110.0               4   \n",
       "3           Ménilmontant  48.865279   2.393263   90.0              20   \n",
       "4              Vaugirard  48.853003   2.286014  371.0              15   \n",
       "\n",
       "  river_bank_side  metro_stations  distance_from_eiffel  \n",
       "0            Left              13           3275.932594  \n",
       "1           Right               9           4765.693329  \n",
       "2           Right               9           4261.190668  \n",
       "3           Right              19           7262.353616  \n",
       "4            Left              22            859.608657  "
      ]
     },
     "execution_count": 57,
     "metadata": {},
     "output_type": "execute_result"
    }
   ],
   "source": [
    "df_joinedfix['price'] = df_joinedfix['price'].replace('[\\$,)]','',  \\\n",
    "        regex=True).replace('[(]','-', regex=True).astype(float)\n",
    "df_joinedfix.head(5)"
   ]
  },
  {
   "cell_type": "code",
   "execution_count": 56,
   "metadata": {},
   "outputs": [
    {
     "data": {
      "text/plain": [
       "neighbourhood_cleansed    False\n",
       "latitude                  False\n",
       "longitude                 False\n",
       "price                     False\n",
       "arrondissement            False\n",
       "river_bank_side           False\n",
       "metro_stations            False\n",
       "distance_from_eiffel      False\n",
       "dtype: bool"
      ]
     },
     "execution_count": 56,
     "metadata": {},
     "output_type": "execute_result"
    }
   ],
   "source": [
    "df_joinedfix.isnull().any()"
   ]
  },
  {
   "cell_type": "markdown",
   "metadata": {},
   "source": [
    "Muutetaan 'river_bank_side'-sarakkeen 'Left' ja 'Right' arvot 'valearvoiksi' (engl. dummy). Tehdään myös sama 'neighbourhood_cleansed'-sarakkeelle."
   ]
  },
  {
   "cell_type": "code",
   "execution_count": 63,
   "metadata": {},
   "outputs": [
    {
     "data": {
      "text/html": [
       "<div>\n",
       "<style scoped>\n",
       "    .dataframe tbody tr th:only-of-type {\n",
       "        vertical-align: middle;\n",
       "    }\n",
       "\n",
       "    .dataframe tbody tr th {\n",
       "        vertical-align: top;\n",
       "    }\n",
       "\n",
       "    .dataframe thead th {\n",
       "        text-align: right;\n",
       "    }\n",
       "</style>\n",
       "<table border=\"1\" class=\"dataframe\">\n",
       "  <thead>\n",
       "    <tr style=\"text-align: right;\">\n",
       "      <th></th>\n",
       "      <th>latitude</th>\n",
       "      <th>longitude</th>\n",
       "      <th>price</th>\n",
       "      <th>arrondissement</th>\n",
       "      <th>metro_stations</th>\n",
       "      <th>distance_from_eiffel</th>\n",
       "      <th>Batignolles-Monceau</th>\n",
       "      <th>Bourse</th>\n",
       "      <th>Buttes-Chaumont</th>\n",
       "      <th>Buttes-Montmartre</th>\n",
       "      <th>...</th>\n",
       "      <th>Palais-Bourbon</th>\n",
       "      <th>Panthéon</th>\n",
       "      <th>Passy</th>\n",
       "      <th>Popincourt</th>\n",
       "      <th>Reuilly</th>\n",
       "      <th>Temple</th>\n",
       "      <th>Vaugirard</th>\n",
       "      <th>Élysée</th>\n",
       "      <th>river_side_Left</th>\n",
       "      <th>river_side_Right</th>\n",
       "    </tr>\n",
       "  </thead>\n",
       "  <tbody>\n",
       "    <tr>\n",
       "      <th>0</th>\n",
       "      <td>48.833494</td>\n",
       "      <td>2.318518</td>\n",
       "      <td>59.0</td>\n",
       "      <td>14</td>\n",
       "      <td>13</td>\n",
       "      <td>3275.932594</td>\n",
       "      <td>0</td>\n",
       "      <td>0</td>\n",
       "      <td>0</td>\n",
       "      <td>0</td>\n",
       "      <td>...</td>\n",
       "      <td>0</td>\n",
       "      <td>0</td>\n",
       "      <td>0</td>\n",
       "      <td>0</td>\n",
       "      <td>0</td>\n",
       "      <td>0</td>\n",
       "      <td>0</td>\n",
       "      <td>0</td>\n",
       "      <td>1</td>\n",
       "      <td>0</td>\n",
       "    </tr>\n",
       "    <tr>\n",
       "      <th>1</th>\n",
       "      <td>48.851001</td>\n",
       "      <td>2.358690</td>\n",
       "      <td>93.0</td>\n",
       "      <td>4</td>\n",
       "      <td>9</td>\n",
       "      <td>4765.693329</td>\n",
       "      <td>0</td>\n",
       "      <td>0</td>\n",
       "      <td>0</td>\n",
       "      <td>0</td>\n",
       "      <td>...</td>\n",
       "      <td>0</td>\n",
       "      <td>0</td>\n",
       "      <td>0</td>\n",
       "      <td>0</td>\n",
       "      <td>0</td>\n",
       "      <td>0</td>\n",
       "      <td>0</td>\n",
       "      <td>0</td>\n",
       "      <td>0</td>\n",
       "      <td>1</td>\n",
       "    </tr>\n",
       "    <tr>\n",
       "      <th>2</th>\n",
       "      <td>48.857576</td>\n",
       "      <td>2.352751</td>\n",
       "      <td>110.0</td>\n",
       "      <td>4</td>\n",
       "      <td>9</td>\n",
       "      <td>4261.190668</td>\n",
       "      <td>0</td>\n",
       "      <td>0</td>\n",
       "      <td>0</td>\n",
       "      <td>0</td>\n",
       "      <td>...</td>\n",
       "      <td>0</td>\n",
       "      <td>0</td>\n",
       "      <td>0</td>\n",
       "      <td>0</td>\n",
       "      <td>0</td>\n",
       "      <td>0</td>\n",
       "      <td>0</td>\n",
       "      <td>0</td>\n",
       "      <td>0</td>\n",
       "      <td>1</td>\n",
       "    </tr>\n",
       "    <tr>\n",
       "      <th>3</th>\n",
       "      <td>48.865279</td>\n",
       "      <td>2.393263</td>\n",
       "      <td>90.0</td>\n",
       "      <td>20</td>\n",
       "      <td>19</td>\n",
       "      <td>7262.353616</td>\n",
       "      <td>0</td>\n",
       "      <td>0</td>\n",
       "      <td>0</td>\n",
       "      <td>0</td>\n",
       "      <td>...</td>\n",
       "      <td>0</td>\n",
       "      <td>0</td>\n",
       "      <td>0</td>\n",
       "      <td>0</td>\n",
       "      <td>0</td>\n",
       "      <td>0</td>\n",
       "      <td>0</td>\n",
       "      <td>0</td>\n",
       "      <td>0</td>\n",
       "      <td>1</td>\n",
       "    </tr>\n",
       "    <tr>\n",
       "      <th>4</th>\n",
       "      <td>48.853003</td>\n",
       "      <td>2.286014</td>\n",
       "      <td>371.0</td>\n",
       "      <td>15</td>\n",
       "      <td>22</td>\n",
       "      <td>859.608657</td>\n",
       "      <td>0</td>\n",
       "      <td>0</td>\n",
       "      <td>0</td>\n",
       "      <td>0</td>\n",
       "      <td>...</td>\n",
       "      <td>0</td>\n",
       "      <td>0</td>\n",
       "      <td>0</td>\n",
       "      <td>0</td>\n",
       "      <td>0</td>\n",
       "      <td>0</td>\n",
       "      <td>1</td>\n",
       "      <td>0</td>\n",
       "      <td>1</td>\n",
       "      <td>0</td>\n",
       "    </tr>\n",
       "  </tbody>\n",
       "</table>\n",
       "<p>5 rows × 28 columns</p>\n",
       "</div>"
      ],
      "text/plain": [
       "    latitude  longitude  price  arrondissement  metro_stations  \\\n",
       "0  48.833494   2.318518   59.0              14              13   \n",
       "1  48.851001   2.358690   93.0               4               9   \n",
       "2  48.857576   2.352751  110.0               4               9   \n",
       "3  48.865279   2.393263   90.0              20              19   \n",
       "4  48.853003   2.286014  371.0              15              22   \n",
       "\n",
       "   distance_from_eiffel  Batignolles-Monceau  Bourse  Buttes-Chaumont  \\\n",
       "0           3275.932594                    0       0                0   \n",
       "1           4765.693329                    0       0                0   \n",
       "2           4261.190668                    0       0                0   \n",
       "3           7262.353616                    0       0                0   \n",
       "4            859.608657                    0       0                0   \n",
       "\n",
       "   Buttes-Montmartre        ...         Palais-Bourbon  Panthéon  Passy  \\\n",
       "0                  0        ...                      0         0      0   \n",
       "1                  0        ...                      0         0      0   \n",
       "2                  0        ...                      0         0      0   \n",
       "3                  0        ...                      0         0      0   \n",
       "4                  0        ...                      0         0      0   \n",
       "\n",
       "   Popincourt  Reuilly  Temple  Vaugirard  Élysée  river_side_Left  \\\n",
       "0           0        0       0          0       0                1   \n",
       "1           0        0       0          0       0                0   \n",
       "2           0        0       0          0       0                0   \n",
       "3           0        0       0          0       0                0   \n",
       "4           0        0       0          1       0                1   \n",
       "\n",
       "   river_side_Right  \n",
       "0                 0  \n",
       "1                 1  \n",
       "2                 1  \n",
       "3                 1  \n",
       "4                 0  \n",
       "\n",
       "[5 rows x 28 columns]"
      ]
     },
     "execution_count": 63,
     "metadata": {},
     "output_type": "execute_result"
    }
   ],
   "source": [
    "river_dummies = pd.get_dummies(df_joinedfix.river_bank_side, prefix='river_side')\n",
    "neigh_dummies = pd.get_dummies(df_joinedfix.neighbourhood_cleansed)\n",
    "finaldata = pd.concat((df_joinedfix.drop(['neighbourhood_cleansed', \\\n",
    "    'river_bank_side'], axis=1), neigh_dummies.astype(int), \\\n",
    "    river_dummies.astype(int)), axis=1)\n",
    "finalcols = finaldata.columns\n",
    "finaldata.head(5)"
   ]
  },
  {
   "cell_type": "markdown",
   "metadata": {},
   "source": [
    "Scatter plotista ei löydetä oikeastaan mitään kiinnostavaa. Ainoa asia, mitä siitä havaitaan on 'arrondissement':n ja 'metro_stations':n yhteys. Kaupunginosassa on siis tietty määrä metroasemia."
   ]
  },
  {
   "cell_type": "code",
   "execution_count": 71,
   "metadata": {},
   "outputs": [
    {
     "data": {
      "text/plain": [
       "array([[<matplotlib.axes._subplots.AxesSubplot object at 0x7f625205cda0>,\n",
       "        <matplotlib.axes._subplots.AxesSubplot object at 0x7f624b77ed30>,\n",
       "        <matplotlib.axes._subplots.AxesSubplot object at 0x7f624b732da0>,\n",
       "        <matplotlib.axes._subplots.AxesSubplot object at 0x7f624b6ebe80>,\n",
       "        <matplotlib.axes._subplots.AxesSubplot object at 0x7f624b6a7da0>,\n",
       "        <matplotlib.axes._subplots.AxesSubplot object at 0x7f624b6a7dd8>],\n",
       "       [<matplotlib.axes._subplots.AxesSubplot object at 0x7f624b92b748>,\n",
       "        <matplotlib.axes._subplots.AxesSubplot object at 0x7f624be99278>,\n",
       "        <matplotlib.axes._subplots.AxesSubplot object at 0x7f624bf5d6a0>,\n",
       "        <matplotlib.axes._subplots.AxesSubplot object at 0x7f624bc0a5f8>,\n",
       "        <matplotlib.axes._subplots.AxesSubplot object at 0x7f624bc9aa58>,\n",
       "        <matplotlib.axes._subplots.AxesSubplot object at 0x7f62500756a0>],\n",
       "       [<matplotlib.axes._subplots.AxesSubplot object at 0x7f625014e3c8>,\n",
       "        <matplotlib.axes._subplots.AxesSubplot object at 0x7f625e43a358>,\n",
       "        <matplotlib.axes._subplots.AxesSubplot object at 0x7f625e422860>,\n",
       "        <matplotlib.axes._subplots.AxesSubplot object at 0x7f62503e4f28>,\n",
       "        <matplotlib.axes._subplots.AxesSubplot object at 0x7f625e317668>,\n",
       "        <matplotlib.axes._subplots.AxesSubplot object at 0x7f62524f8fd0>],\n",
       "       [<matplotlib.axes._subplots.AxesSubplot object at 0x7f62501df9e8>,\n",
       "        <matplotlib.axes._subplots.AxesSubplot object at 0x7f625262ba90>,\n",
       "        <matplotlib.axes._subplots.AxesSubplot object at 0x7f624bbbcb38>,\n",
       "        <matplotlib.axes._subplots.AxesSubplot object at 0x7f625a9ff080>,\n",
       "        <matplotlib.axes._subplots.AxesSubplot object at 0x7f624bb80208>,\n",
       "        <matplotlib.axes._subplots.AxesSubplot object at 0x7f624be3f6a0>],\n",
       "       [<matplotlib.axes._subplots.AxesSubplot object at 0x7f62525fa278>,\n",
       "        <matplotlib.axes._subplots.AxesSubplot object at 0x7f624bcb4ac8>,\n",
       "        <matplotlib.axes._subplots.AxesSubplot object at 0x7f624be83f28>,\n",
       "        <matplotlib.axes._subplots.AxesSubplot object at 0x7f624bc47fd0>,\n",
       "        <matplotlib.axes._subplots.AxesSubplot object at 0x7f624be75cc0>,\n",
       "        <matplotlib.axes._subplots.AxesSubplot object at 0x7f624bf10f60>],\n",
       "       [<matplotlib.axes._subplots.AxesSubplot object at 0x7f62500ad048>,\n",
       "        <matplotlib.axes._subplots.AxesSubplot object at 0x7f625e3b8908>,\n",
       "        <matplotlib.axes._subplots.AxesSubplot object at 0x7f62524fe978>,\n",
       "        <matplotlib.axes._subplots.AxesSubplot object at 0x7f62524d5358>,\n",
       "        <matplotlib.axes._subplots.AxesSubplot object at 0x7f62525ae828>,\n",
       "        <matplotlib.axes._subplots.AxesSubplot object at 0x7f62522458d0>]],\n",
       "      dtype=object)"
      ]
     },
     "execution_count": 71,
     "metadata": {},
     "output_type": "execute_result"
    },
    {
     "data": {
      "image/png": "[encoded data removed]",
      "text/plain": [
       "<matplotlib.figure.Figure at 0x7f62520272b0>"
      ]
     },
     "metadata": {},
     "output_type": "display_data"
    }
   ],
   "source": [
    "from pandas.plotting import scatter_matrix\n",
    "\n",
    "scattercols = ['price','arrondissement', 'metro_stations', 'distance_from_eiffel', 'river_side_Left', 'river_side_Right']\n",
    "scatter_matrix(finaldata[scattercols], figsize=(12, 12), c='red')"
   ]
  },
  {
   "cell_type": "code",
   "execution_count": null,
   "metadata": {},
   "outputs": [],
   "source": []
  },
  {
   "cell_type": "code",
   "execution_count": null,
   "metadata": {},
   "outputs": [],
   "source": []
  }
 ],
 "metadata": {
  "kernelspec": {
   "display_name": "Python 3",
   "language": "python",
   "name": "python3"
  },
  "language_info": {
   "codemirror_mode": {
    "name": "ipython",
    "version": 3
   },
   "file_extension": ".py",
   "mimetype": "text/x-python",
   "name": "python",
   "nbconvert_exporter": "python",
   "pygments_lexer": "ipython3",
   "version": "3.6.4"
  }
 },
 "nbformat": 4,
 "nbformat_minor": 2
}
